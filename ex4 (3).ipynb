{
 "cells": [
  {
   "cell_type": "code",
   "execution_count": 8,
   "id": "a08242cf",
   "metadata": {},
   "outputs": [],
   "source": [
    "import pandas as pd\n",
    "import numpy as np \n",
    "from sklearn.model_selection import train_test_split \n",
    "from sklearn.ensemble import RandomForestClassifier\n",
    "from sklearn.metrics import accuracy_score \n",
    "from sklearn.inspection import permutation_importance \n",
    "from sklearn.datasets import load_iris"
   ]
  },
  {
   "cell_type": "code",
   "execution_count": 10,
   "id": "bff954e5",
   "metadata": {},
   "outputs": [],
   "source": [
    "iris = load_iris()\n",
    "X =pd.DataFrame(iris.data,columns = iris.feature_names)\n",
    "Y=iris.target\n",
    "X_train, X_test, Y_train, Y_test = train_test_split(X, Y, test_size=0.2, random_state=42)"
   ]
  },
  {
   "cell_type": "code",
   "execution_count": 13,
   "id": "8d731f4a",
   "metadata": {},
   "outputs": [
    {
     "name": "stdout",
     "output_type": "stream",
     "text": [
      "Accuracy before permutation 1.0\n"
     ]
    }
   ],
   "source": [
    "model = RandomForestClassifier(n_estimators=100,random_state=42)\n",
    "model.fit(X_train,Y_train)\n",
    "y_pred=model.predict(X_test)\n",
    "acc=accuracy_score(Y_test,y_pred)\n",
    "print(\"Accuracy before permutation\",acc)"
   ]
  },
  {
   "cell_type": "code",
   "execution_count": 21,
   "id": "36eca551",
   "metadata": {},
   "outputs": [
    {
     "name": "stdout",
     "output_type": "stream",
     "text": [
      "sepal length (cm):0.0\n",
      "sepal width (cm):0.0\n",
      "petal length (cm):0.23666666666666666\n",
      "petal width (cm):0.20555555555555557\n"
     ]
    }
   ],
   "source": [
    "perm_importance = permutation_importance(model,X_test,Y_test,n_repeats=30,random_state=42)\n",
    "feature_importance = perm_importance.importances_mean\n",
    "feature_names = X.columns\n",
    "for feature_name,importance in zip(feature_names,feature_importance):\n",
    "    print(f\"{feature_name}:{importance:}\")"
   ]
  },
  {
   "cell_type": "code",
   "execution_count": 19,
   "id": "dad7eed6",
   "metadata": {},
   "outputs": [
    {
     "data": {
      "text/plain": [
       "<BarContainer object of 4 artists>"
      ]
     },
     "execution_count": 19,
     "metadata": {},
     "output_type": "execute_result"
    },
    {
     "data": {
      "image/png": "[encoded data removed]",
      "text/plain": [
       "<Figure size 432x288 with 1 Axes>"
      ]
     },
     "metadata": {
      "needs_background": "light"
     },
     "output_type": "display_data"
    }
   ],
   "source": [
    "import matplotlib.pyplot as plt\n",
    "plt.barh(feature_names,feature_importance)"
   ]
  },
  {
   "cell_type": "code",
   "execution_count": null,
   "id": "42cdb52c",
   "metadata": {},
   "outputs": [],
   "source": []
  }
 ],
 "metadata": {
  "kernelspec": {
   "display_name": "Python 3 (ipykernel)",
   "language": "python",
   "name": "python3"
  },
  "language_info": {
   "codemirror_mode": {
    "name": "ipython",
    "version": 3
   },
   "file_extension": ".py",
   "mimetype": "text/x-python",
   "name": "python",
   "nbconvert_exporter": "python",
   "pygments_lexer": "ipython3",
   "version": "3.9.7"
  }
 },
 "nbformat": 4,
 "nbformat_minor": 5
}
